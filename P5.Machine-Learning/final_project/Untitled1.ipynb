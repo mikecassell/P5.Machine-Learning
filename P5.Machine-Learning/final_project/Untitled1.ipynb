{
 "cells": [
  {
   "cell_type": "code",
   "execution_count": 1,
   "metadata": {
    "collapsed": false
   },
   "outputs": [],
   "source": [
    "import sys\n",
    "import numpy as np\n",
    "import pickle\n",
    "import pandas as pd\n",
    "\n",
    "sys.path.append(\"../tools/\")\n",
    "\n",
    "from feature_format import featureFormat, targetFeatureSplit\n",
    "from tester import test_classifier, dump_classifier_and_data\n",
    "\n",
    "\n",
    "def mkRatio(a, b):\n",
    "    if a == 'NaN':\n",
    "        a = 0\n",
    "    if b == 'NaN' or b == 0:\n",
    "        return('NaN')\n",
    "    return(a/(b*1.0))"
   ]
  },
  {
   "cell_type": "code",
   "execution_count": 2,
   "metadata": {
    "collapsed": false
   },
   "outputs": [
    {
     "name": "stdout",
     "output_type": "stream",
     "text": [
      "['poi', 'salary', 'to_messages', 'deferral_payments', 'total_payments', 'exercised_stock_options', 'bonus', 'restricted_stock', 'shared_receipt_with_poi', 'restricted_stock_deferred', 'total_stock_value', 'expenses', 'loan_advances', 'from_messages', 'other', 'from_this_person_to_poi', 'director_fees', 'deferred_income', 'long_term_incentive', 'from_poi_to_this_person']\n"
     ]
    }
   ],
   "source": [
    "### Task 1: Select what features you'll use.\n",
    "features_list = ['poi'] \n",
    "\n",
    "# Ignore email address since it's text\n",
    "ignore_list = ['email_address'] \n",
    "\n",
    "### Load the dictionary containing the dataset and my processed text data\n",
    "data_dict = pickle.load(open(\"final_project_dataset.pkl\", \"r\") )\n",
    "wordData = pickle.load(open(\"p5_analyzedEmailData.pkl\", \"r\") )\n",
    "\n",
    "# Populate all the features to the Features list to start\n",
    "for p in data_dict:\n",
    "    for f in data_dict[p]:\n",
    "        if f not in features_list and f not in ignore_list:\n",
    "            features_list.append(f)\n",
    "            \n",
    "print(features_list)"
   ]
  },
  {
   "cell_type": "code",
   "execution_count": 3,
   "metadata": {
    "collapsed": false
   },
   "outputs": [
    {
     "data": {
      "text/plain": [
       "{'bonus': 97343619,\n",
       " 'deferral_payments': 32083396,\n",
       " 'deferred_income': -27992891,\n",
       " 'director_fees': 1398517,\n",
       " 'email_address': 'NaN',\n",
       " 'exercised_stock_options': 311764000,\n",
       " 'expenses': 5235198,\n",
       " 'from_messages': 'NaN',\n",
       " 'from_poi_to_this_person': 'NaN',\n",
       " 'from_this_person_to_poi': 'NaN',\n",
       " 'loan_advances': 83925000,\n",
       " 'long_term_incentive': 48521928,\n",
       " 'other': 42667589,\n",
       " 'poi': False,\n",
       " 'restricted_stock': 130322299,\n",
       " 'restricted_stock_deferred': -7576788,\n",
       " 'salary': 26704229,\n",
       " 'shared_receipt_with_poi': 'NaN',\n",
       " 'to_messages': 'NaN',\n",
       " 'total_payments': 309886585,\n",
       " 'total_stock_value': 434509511}"
      ]
     },
     "execution_count": 3,
     "metadata": {},
     "output_type": "execute_result"
    }
   ],
   "source": [
    "### Task 2: Remove outliers\n",
    "data_dict.pop('TOTAL')\n"
   ]
  },
  {
   "cell_type": "code",
   "execution_count": 4,
   "metadata": {
    "collapsed": false
   },
   "outputs": [],
   "source": [
    "### Task 3: Create new feature(s)\n",
    "\n",
    "for p in data_dict:\n",
    "    mailA = data_dict[p]['email_address'] \n",
    "    if mailA in wordData:\n",
    "        data_dict[p]['flaggedMail'] = wordData[mailA]['flaggedMails']\n",
    "    else:\n",
    "        data_dict[p]['flaggedMail'] = 'NaN'\n",
    "        \n",
    "for p in data_dict:\n",
    "    data_dict[p]['flaggedRatio'] = mkRatio(data_dict[p]['flaggedMail'],\n",
    "            data_dict[p]['from_messages'])\n",
    "    if 'flaggedRatio' not in features_list:\n",
    "        features_list.append('flaggedRatio')   \n",
    "\n",
    "    data_dict[p]['fromRatio'] = mkRatio(data_dict[p]['from_this_person_to_poi'],\n",
    "            data_dict[p]['from_messages'])\n",
    "    if 'fromRatio' not in features_list:\n",
    "        features_list.append('fromRatio')    \n",
    "    data_dict[p]['toRatio'] = mkRatio(data_dict[p]['from_poi_to_this_person'],\n",
    "            data_dict[p]['to_messages'])\n",
    "    if 'toRatio' not in features_list:\n",
    "        features_list.append('toRatio')\n",
    "    data_dict[p]['salToBonus'] = mkRatio(data_dict[p]['salary'],\n",
    "            (data_dict[p]['bonus']))\n",
    "    if 'salToBonus' not in features_list:\n",
    "        features_list.append('salToBonus')"
   ]
  },
  {
   "cell_type": "code",
   "execution_count": 5,
   "metadata": {
    "collapsed": false
   },
   "outputs": [],
   "source": [
    "# Normalize to facilitate PCA and Feature Selection\n",
    "fts = {}\n",
    "for f in features_list:\n",
    "    if f not in ignore_list and f != 'poi':\n",
    "        fts[f] = {'min':0,'max':0}\n",
    "        for person in data_dict:\n",
    "            if data_dict[person][f] < fts[f]['min'] and data_dict[person][f] != 'NaN':\n",
    "                fts[f]['min'] =  data_dict[person][f]\n",
    "\n",
    "            if data_dict[person][f] > fts[f]['max'] and data_dict[person][f] != 'NaN':\n",
    "                fts[f]['max'] =  data_dict[person][f]\n",
    "\n",
    "for f in features_list:\n",
    "    if f not in ignore_list and f != 'poi':\n",
    "        for person in data_dict:\n",
    "            if data_dict[person][f] != 'NaN':\n",
    "                data_dict[person][f] = data_dict[person][f] / (fts[f]['max']-fts[f]['min'])"
   ]
  },
  {
   "cell_type": "code",
   "execution_count": 6,
   "metadata": {
    "collapsed": false
   },
   "outputs": [],
   "source": [
    "data = featureFormat(data_dict, features_list, sort_keys = True)\n",
    "labels, features = targetFeatureSplit(data)"
   ]
  },
  {
   "cell_type": "code",
   "execution_count": 7,
   "metadata": {
    "collapsed": false
   },
   "outputs": [
    {
     "name": "stdout",
     "output_type": "stream",
     "text": [
      "Retained Features:\n",
      "('other', 6.6847457627118638)\n",
      "('from_poi_to_this_person', 646.21187958248311)\n",
      "('flaggedRatio', 15.03681557335176)\n"
     ]
    }
   ],
   "source": [
    "### Feature Selection\n",
    "from sklearn.feature_selection import SelectKBest\n",
    "skb = SelectKBest(k=3)\n",
    "skb = skb.fit(features, labels)\n",
    "features = skb.transform(features)\n",
    "np.shape(features)\n",
    "sup = skb.get_support()\n",
    "print('Retained Features:')\n",
    "for f in range(0,len(features_list)-1):\n",
    "    if sup[f]:\n",
    "        print(features_list[f], skb.scores_[f])\n"
   ]
  },
  {
   "cell_type": "code",
   "execution_count": 8,
   "metadata": {
    "collapsed": false
   },
   "outputs": [
    {
     "name": "stdout",
     "output_type": "stream",
     "text": [
      "()\n"
     ]
    }
   ],
   "source": []
  },
  {
   "cell_type": "code",
   "execution_count": 9,
   "metadata": {
    "collapsed": false
   },
   "outputs": [
    {
     "name": "stdout",
     "output_type": "stream",
     "text": [
      "Retained Features:\n",
      "('Features', (118, 3))\n",
      "('Labels', (118,))\n"
     ]
    }
   ],
   "source": [
    "print('Retained Features:')\n",
    "features_list\n",
    "print('Features', np.shape(features))\n",
    "print('Labels', np.shape(labels))"
   ]
  },
  {
   "cell_type": "code",
   "execution_count": 21,
   "metadata": {
    "collapsed": false
   },
   "outputs": [
    {
     "name": "stdout",
     "output_type": "stream",
     "text": [
      "('Accuracy:', 0.98313492063492069, 'Precision:', 0.54761904761904767, 'Recall:', 0.5714285714285714)\n",
      "DecisionTreeClassifier(class_weight=None, criterion='entropy', max_depth=3,\n",
      "            max_features=None, max_leaf_nodes=None, min_samples_leaf=5,\n",
      "            min_samples_split=2, min_weight_fraction_leaf=0.0,\n",
      "            random_state=None, splitter='best')\n",
      "\tAccuracy:, 0.97817,\tPrecision:, 1.00000\\,tRecall:, 0.86900\t,F1:,0.92991\t,F2: 0.89238\n",
      "\tTotal predictions:, 12000\tTrue positives: 1738,\tFalse positives:,    0,\tFalse negatives:,  262,\tTrue negatives:, 10000\n",
      "\n"
     ]
    }
   ],
   "source": [
    "# Set up the cross validateion, run the selected model and print results.\n",
    "\n",
    "validation_scores = {}\n",
    "counter = 0\n",
    "\n",
    "from sklearn.cross_validation import KFold\n",
    "from sklearn.metrics import accuracy_score, recall_score, precision_score\n",
    "from sklearn.tree import DecisionTreeClassifier\n",
    "kf = KFold(len(labels), 14)\n",
    "\n",
    "for tr_ind, tst_ind in kf:\n",
    "    counter+=1    \n",
    "    features_train = [features[ii] for ii in tr_ind]\n",
    "    features_test = [features[ii] for ii in tst_ind]\n",
    "    labels_train = [labels[ii] for ii in tr_ind]\n",
    "    labels_test = [labels[ii] for ii in tst_ind]\n",
    "    clf = DecisionTreeClassifier(criterion='entropy', max_depth=3, \n",
    "                             min_samples_leaf=5)\n",
    "    \n",
    "    clf.fit(features_train, labels_train)\n",
    "    \n",
    "    predictions = clf.predict(features_test)\n",
    "    acc = accuracy_score(predictions, labels_test)\n",
    "    rec = recall_score(predictions, labels_test)\n",
    "    prec = precision_score(predictions, labels_test)\n",
    "    validation_scores[counter] = {'Acc':acc, 'Rec':rec,'Prec':prec}    \n",
    "\n",
    "prec, rec, acc = 0,0,0\n",
    "cnt = 0\n",
    "for s in validation_scores:\n",
    "    prec = prec + validation_scores[s]['Prec']\n",
    "    rec = rec + validation_scores[s]['Rec']\n",
    "    acc = acc + validation_scores[s]['Acc']\n",
    "    cnt += 1\n",
    "\n",
    "print('Accuracy:',acc/cnt, 'Precision:',prec/cnt, 'Recall:',rec/cnt)\n",
    "\n",
    "# Now print the Udacity test results\n",
    "test_classifier(clf, data_dict, features_list)"
   ]
  },
  {
   "cell_type": "code",
   "execution_count": null,
   "metadata": {
    "collapsed": true
   },
   "outputs": [],
   "source": []
  }
 ],
 "metadata": {
  "kernelspec": {
   "display_name": "Python 2",
   "language": "python",
   "name": "python2"
  },
  "language_info": {
   "codemirror_mode": {
    "name": "ipython",
    "version": 2
   },
   "file_extension": ".py",
   "mimetype": "text/x-python",
   "name": "python",
   "nbconvert_exporter": "python",
   "pygments_lexer": "ipython2",
   "version": "2.7.10"
  }
 },
 "nbformat": 4,
 "nbformat_minor": 0
}
